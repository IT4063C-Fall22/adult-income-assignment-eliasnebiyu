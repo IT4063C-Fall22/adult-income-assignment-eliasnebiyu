{
 "cells": [
  {
   "cell_type": "markdown",
   "metadata": {},
   "source": [
    "# Income Prediction - Machine Learning End-to-End Project\n",
    "\n",
    "This lab is a guided project that will walk you through the process of building a machine learning model to predict whether an adult's income exceeds $50K/yr based on census data.\n",
    "\n",
    "> The data set was extracted in 1996. Don't make life decisions based on your findings here.\n",
    "For information about this dataset, what parameters were used to extract this information from the Census (maybe you can do this with more current data) [Go here](https://archive.ics.uci.edu/ml/datasets/Adult)\n",
    "\n",
    "**Objectives**\n",
    "- Practice building a machine learning project from start to finish\n",
    "\n",
    "**Emojis Legend**\n",
    "- 👨🏻‍💻 - Instructions; Tells you about something specific you need to do.\n",
    "- 🦉 - Tips; Will tell you about some hints, tips and best practices\n",
    "- 📜 - Documentations; provides links to documentations\n",
    "- 🚩 - Checkpoint; marks a good spot for you to commit your code to git\n",
    "- 🕵️ - Tester; Don't modify code blocks starting with this emoji"
   ]
  },
  {
   "cell_type": "markdown",
   "metadata": {},
   "source": [
    "## Setup\n",
    "First, let's import a few common modules, ensure `MatplotLib` plots figures inline. We also ensure that you have the correct version of Python (3.10) installed.\n",
    "\n",
    "- **Task 👨🏻‍💻**: Keep coming back to update this cell as you need to import new packages.\n",
    "- **Task 👨🏻‍💻**: Check what's already been imported here"
   ]
  },
  {
   "cell_type": "code",
   "execution_count": null,
   "metadata": {},
   "outputs": [],
   "source": [
    "# Python ≥3.10 is required\n",
    "import sys\n",
    "assert sys.version_info >= (3, 10)\n",
    "\n",
    "# Common imports\n",
    "import numpy as np\n",
    "import pandas as pd\n",
    "import pandas_profiling\n",
    "import os\n",
    "\n",
    "# Scikit Learn imports\n",
    "## For the pipeline\n",
    "from sklearn.pipeline import Pipeline\n",
    "from sklearn.compose import ColumnTransformer\n",
    "## For preprocessing\n",
    "from sklearn.preprocessing import (\n",
    "  OneHotEncoder,\n",
    "  OrdinalEncoder,\n",
    "  StandardScaler\n",
    ")\n",
    "from sklearn.impute import (\n",
    "  SimpleImputer\n",
    ")\n",
    "## For model selection\n",
    "from sklearn.model_selection import (\n",
    "  StratifiedShuffleSplit,\n",
    "  train_test_split,\n",
    "  cross_val_score,\n",
    "  KFold,\n",
    "  GridSearchCV\n",
    ")\n",
    "\n",
    "# Classifier Algorithms\n",
    "from sklearn import metrics\n",
    "from sklearn.dummy import DummyClassifier\n",
    "from sklearn.tree import DecisionTreeClassifier\n",
    "from sklearn.svm import SVC\n",
    "from sklearn.ensemble import (\n",
    "  RandomForestClassifier, \n",
    "  GradientBoostingClassifier,\n",
    "  BaggingClassifier\n",
    ")\n",
    "\n",
    "# To save and load models\n",
    "import pickle\n",
    "\n",
    "# To plot pretty figures\n",
    "%matplotlib inline\n",
    "import matplotlib as mpl\n",
    "import matplotlib.pyplot as plt\n",
    "import seaborn as sns\n",
    "\n",
    "mpl.rc('axes', labelsize=14)\n",
    "mpl.rc('xtick', labelsize=12)\n",
    "mpl.rc('ytick', labelsize=12)\n",
    "plt.style.use(\"bmh\")\n",
    "\n",
    "# to make this notebook's output stable across runs\n",
    "np.random.seed(42)"
   ]
  },
  {
   "cell_type": "markdown",
   "metadata": {},
   "source": [
    "## Adult Dataset\n",
    "\n",
    "### 1️⃣ Ask\n",
    "The dataset is credited to Ronny Kohavi and Barry Becker and was drawn from the 1994 United States Census Bureau data and involves using personal details such as education level to predict whether an individual will earn more or less than $50,000 per year.\n",
    "> \"Extraction was done by Barry Becker from the 1994 Census database. A set of reasonably clean records was extracted using the following conditions: ((AAGE>16) && (AGI>100) && (AFNLWGT>1)&& (HRSWK>0))\"\n",
    "\n",
    "The dataset provides 14 input variables that are a mixture of categorical, ordinal, and numerical data types. The complete list of variables is as follows:\n",
    "\n",
    "- **age**: continuous.\n",
    "- **workclass**: Private, Self-emp-not-inc, Self-emp-inc, Federal-gov, Local-gov, State-gov, Without-pay, Never-worked.\n",
    "- **fnlwgt**: continuous.\n",
    "- **education**: Bachelors, Some-college, 11th, HS-grad, Prof-school, Assoc-acdm, Assoc-voc, 9th, 7th-8th, 12th, Masters, 1st-4th, 10th, Doctorate, 5th-6th, Preschool.\n",
    "- **education-num**: continuous.\n",
    "- **marital-status**: Married-civ-spouse, Divorced, Never-married, Separated, Widowed, Married-spouse-absent, Married-AF-spouse.\n",
    "- **occupation**: Tech-support, Craft-repair, Other-service, Sales, Exec-managerial, Prof-specialty, Handlers-cleaners, Machine-op-inspct, Adm-clerical, Farming-fishing, Transport-moving, Priv-house-serv, Protective-serv, Armed-Forces.\n",
    "- **relationship**: Wife, Own-child, Husband, Not-in-family, Other-relative, Unmarried.\n",
    "- **race**: White, Asian-Pac-Islander, Amer-Indian-Eskimo, Other, Black.\n",
    "- **sex**: Female, Male.\n",
    "- **capital-gain**: continuous.\n",
    "- **capital-loss**: continuous.\n",
    "- **hours-per-week**: continuous.\n",
    "- **native-country**: United-States, Cambodia, England, Puerto-Rico, Canada, Germany, Outlying-US(Guam-USVI-etc), India, Japan, Greece, South, China, Cuba, Iran, Honduras, Philippines, Italy, Poland, Jamaica, Vietnam, Mexico, Portugal, Ireland, France, Dominican-Republic, Laos, Ecuador, Taiwan, Haiti, Columbia, Hungary, Guatemala, Nicaragua, Scotland, Thailand, Yugoslavia, El-Salvador, Trinadad&Tobago, Peru, Hong, Holand-Netherlands.\n",
    "\n",
    "The dataset contains missing values that are marked with a question mark character (?).\n",
    "\n",
    "There are a total of 48,842 rows of data, and 3,620 with missing values, leaving 45,222 complete rows.\n",
    "\n",
    "The project objective is to develop a model that can predict whether a person makes over 50K a year.\n"
   ]
  },
  {
   "cell_type": "markdown",
   "metadata": {},
   "source": [
    "### 2️⃣ Prepare\n",
    "Here we will load the dataset and split it into training and test sets. We will also perform some Exploratory Data Analysis to get some insights about the processing steps we'll need to take."
   ]
  },
  {
   "cell_type": "markdown",
   "metadata": {},
   "source": [
    "**Task 👨🏻‍💻** : Load the dataset from `data/adult.csv` and store it in a variable called `adult`"
   ]
  },
  {
   "cell_type": "code",
   "execution_count": null,
   "metadata": {},
   "outputs": [],
   "source": []
  },
  {
   "cell_type": "markdown",
   "metadata": {},
   "source": [
    "We need to learn about the composition of the dataset. Let's look at the first few rows of the dataset.\n",
    "\n",
    "**Task 👨🏻‍💻** : Use the `head()` method to look at the first few rows of the dataset.\n",
    "\n",
    "<details>\n",
    "  <summary>Output should look like this: (🦉 click me)</summary>\n",
    "  <img width=\"600\" src=\"https://github.com/IT4063C/images/raw/main/adult-assignment/head.png\" />\n",
    "</details>"
   ]
  },
  {
   "cell_type": "code",
   "execution_count": null,
   "metadata": {},
   "outputs": [],
   "source": []
  },
  {
   "cell_type": "markdown",
   "metadata": {},
   "source": [
    "> 🚩 : Make a git commit here"
   ]
  },
  {
   "cell_type": "markdown",
   "metadata": {},
   "source": [
    "We need to know the number of rows and columns in the dataset. Let's use the `.shape` attribute to find out.\n",
    "\n",
    "**Task 👨🏻‍💻:** Use the `.shape` attribute to find out the number of rows and columns in the dataset.\n",
    "\n",
    "*Hint 🦉 :* \n",
    "- `.shape` is an attribute not a method/function; you don't add `()` at the end of it to execute it.\n",
    "- `.shape` It returns a tuple of the form `(rows, columns)`"
   ]
  },
  {
   "cell_type": "code",
   "execution_count": null,
   "metadata": {},
   "outputs": [],
   "source": []
  },
  {
   "cell_type": "markdown",
   "metadata": {},
   "source": [
    "We need to check if we have any missing values in the dataset. Let's use the `isnull()` method to find out.\n",
    "\n",
    "**Task 👨🏻‍💻** : Use the `isnull()` method to find out if there are any missing values in the dataset.\n",
    "\n",
    "*Hint 🦉 :* \n",
    "- `isnull()` returns a dataframe of the same shape as the original dataframe with boolean values. `True` indicates a missing value and `False` indicates a non-missing value.\n",
    "- because it would be difficult to read a dataframe of boolean values, we can use the `sum()` method to get the total number of missing values in each column. `sum()` returns a series with the column names as the index and the total number of missing values in each column as the values.\n",
    "  - We've done this in a previous lab, so you can refer to that if you need to.\n",
    "\n",
    "<details>\n",
    "  <summary>Output should look like this: (🦉 click me)</summary>\n",
    "  <img width=\"100\" src=\"https://github.com/IT4063C/images/raw/main/adult-assignment/missing1.png\" />\n",
    "</details>\n"
   ]
  },
  {
   "cell_type": "code",
   "execution_count": null,
   "metadata": {},
   "outputs": [],
   "source": []
  },
  {
   "cell_type": "markdown",
   "metadata": {},
   "source": [
    "**But that's not true** The dataset contains missing values that are marked with a question mark character (?). As indicated in the dataset description.\n",
    "\n",
    "We have 2 alternatives to deal with missing values:\n",
    "- we can replace the `?` with `NaN`. And we have to do this for all 14 columns. This is tedious and error-prone.\n",
    "- We can re-import the dataset and specify that `?` is a missing value. using the `na_values` parameter.\n",
    "\n",
    "**Task 👨🏻‍💻** : Use the `read_csv()` method to re-import the dataset and specify that `?` is a missing value. using the `na_values` parameter.\n",
    "\n",
    "*Hint 🦉 :*\n",
    "- you want to override the `adult` variable with the new dataframe. So you can use the same variable name.\n"
   ]
  },
  {
   "cell_type": "code",
   "execution_count": null,
   "metadata": {},
   "outputs": [],
   "source": []
  },
  {
   "cell_type": "markdown",
   "metadata": {},
   "source": [
    "**Task 👨🏻‍💻** : Check again if we have any missing values in the dataset using the `isnull()` method.\n",
    "\n",
    "*Hint 🦉 :*\n",
    "- you can use the same code as before to check for missing values.\n",
    "- Same hints apply; we want to use the `sum()` method to get the total number of missing values in each column.\n",
    "\n",
    "<details>\n",
    "  <summary>Output should look like this: (🦉 click me)</summary>\n",
    "  <img width=\"100\" src=\"https://github.com/IT4063C/images/raw/main/adult-assignment/missing2.png\" />\n",
    "</details>"
   ]
  },
  {
   "cell_type": "code",
   "execution_count": null,
   "metadata": {},
   "outputs": [],
   "source": []
  },
  {
   "cell_type": "markdown",
   "metadata": {},
   "source": [
    "We could also use the `info()` method to get a summary of the dataset. Let's use it to find out more about the dataset.\n",
    "\n",
    "**Task 👨🏻‍💻** : Use the `info()` method to get a summary of the dataset.\n",
    "\n",
    "*Hint 🦉 :* \n",
    "- `info()` returns a summary of the dataset. \n",
    "- It includes the number of rows and columns, the number of **non-missing values** in each column, the data type of each column and the memory usage of the dataframe."
   ]
  },
  {
   "cell_type": "code",
   "execution_count": null,
   "metadata": {},
   "outputs": [],
   "source": []
  },
  {
   "cell_type": "markdown",
   "metadata": {},
   "source": [
    "We could also use the `describe()` method to get a summary of the dataset. Let's use it to find out more about the dataset.\n",
    "\n",
    "**Task 👨🏻‍💻** : Use the `describe()` method to get a summary of the dataset.\n",
    "\n",
    "<details>\n",
    "  <summary>Output should look like this: (🦉 click me)</summary>\n",
    "  <img width=\"100\" src=\"https://github.com/IT4063C/images/raw/main/adult-assignment/describe.png\" />\n",
    "</details>"
   ]
  },
  {
   "cell_type": "code",
   "execution_count": null,
   "metadata": {},
   "outputs": [],
   "source": []
  },
  {
   "cell_type": "markdown",
   "metadata": {},
   "source": [
    "> 🚩 : Make a git commit here"
   ]
  },
  {
   "cell_type": "markdown",
   "metadata": {},
   "source": [
    "We also need to visualize the data we have to get more insights about the dataset. Let's use the `hist()` method to visualize the distribution of the data.\n",
    "\n",
    "**Task 👨🏻‍💻** : Use the `.hist()` method to plot a histogram of each column in the dataset.\n",
    "\n",
    "*Hint 🦉 :* \n",
    "- use the `figsize` parameter to set the size of the figure to `(20, 15)`\n",
    "- use the `bins` parameter to set the number of bins to `50`\n",
    "\n",
    "<details>\n",
    "  <summary>Output should look like this: (🦉 click me)</summary>\n",
    "  <img width=\"800\" src=\"https://github.com/IT4063C/images/raw/main/adult-assignment/adult_hist.png\" />\n",
    "</details>"
   ]
  },
  {
   "cell_type": "code",
   "execution_count": null,
   "metadata": {},
   "outputs": [],
   "source": []
  },
  {
   "cell_type": "markdown",
   "metadata": {},
   "source": [
    "> 🚩 : Make a git commit here"
   ]
  },
  {
   "cell_type": "markdown",
   "metadata": {},
   "source": [
    "**Task 👨🏻‍💻** : <u><strong>For each</strong></u> of the (8) categorical columns, use the `value_counts()` method to get the number of unique values in each column.\n",
    "\n",
    "*Hint 🦉 :*\n",
    "- `value_counts()` returns a series with the unique values as the index and the number of occurrences of each unique value as the values.\n",
    "- if you want to put them all in a one cell, you'll need to wrap each call in the `display()` function.\n",
    "\n",
    "<details>\n",
    "  <summary>the work-class category for example should look like this: (🦉 click me)</summary>\n",
    "  <img width=\"100\" src=\"https://github.com/IT4063C/images/raw/main/adult-assignment/work-class-count.png\" />\n",
    "</details>"
   ]
  },
  {
   "cell_type": "code",
   "execution_count": null,
   "metadata": {},
   "outputs": [],
   "source": []
  },
  {
   "cell_type": "markdown",
   "metadata": {},
   "source": [
    "> 🚩 : Make a git commit here"
   ]
  },
  {
   "cell_type": "markdown",
   "metadata": {},
   "source": [
    "**Task 👨🏻‍💻** : <u><strong>For each</strong></u> of the (8) categorical columns, Plot a bar chart that shows the distribution of the values in each column.\n",
    "\n",
    "*Hint 🦉 :*\n",
    "- [matplotlib - plotting categorical_variables](https://matplotlib.org/stable/gallery/lines_bars_and_markers/categorical_variables.html)\n",
    "- You could als call the `plot` function on the output of the `value_counts()` method. But you'll need to specify the `kind` parameter to `bar` to get a bar chart.\n",
    "\n",
    "<details>\n",
    "  <summary>Work class bar chart, for example, should look like this: (🦉 click me)</summary>\n",
    "  <img width=\"100\" src=\"https://github.com/IT4063C/images/raw/main/adult-assignment/work-class-count-bar.png\" />\n",
    "</details>\n",
    "\n",
    "**✨ For Extra Credit 👨🏻‍💻**: <u>For 5 points of Extra Credit:</u> Plot all the categorical columns in a single figure using subplots."
   ]
  },
  {
   "cell_type": "code",
   "execution_count": null,
   "metadata": {},
   "outputs": [],
   "source": []
  },
  {
   "cell_type": "markdown",
   "metadata": {},
   "source": [
    "> 🚩 : Make a git commit here"
   ]
  },
  {
   "cell_type": "markdown",
   "metadata": {},
   "source": [
    "**Task 👨🏻‍💻** : Make some observations about each of the features in the histograms. \n",
    "\n",
    "*Hint 🦉 :*\n",
    "Here are some questions to get you started:\n",
    "- What do you notice about the distribution of the data?\n",
    "- when imputing the data, what values would you use for each feature? (mean, median, most frequent/mode) and why?\n",
    "- For the categorical features we have, what type of categorical features are they? (nominal, ordinal)"
   ]
  },
  {
   "cell_type": "raw",
   "metadata": {},
   "source": [
    "🦉: type your observations in this cell here\n"
   ]
  },
  {
   "cell_type": "markdown",
   "metadata": {},
   "source": [
    "> 🚩 : Make a git commit here"
   ]
  },
  {
   "cell_type": "markdown",
   "metadata": {},
   "source": [
    "### 🏖 ☕️ Take a break here\n",
    "make sure you understand what we've done so far.\n",
    "\n",
    "____________________________"
   ]
  },
  {
   "cell_type": "markdown",
   "metadata": {},
   "source": [
    "#### Split the dataset into training and test sets\n",
    "Now before we go any further, we need to split the dataset we have into two parts:\n",
    "- a training set\n",
    "- a test set\n",
    "\n",
    "This step is important because we need to train our model, then test it against some data that it hasn't seen before. If we don't do this, we won't be able to tell if our model is overfitting or not."
   ]
  },
  {
   "cell_type": "markdown",
   "metadata": {},
   "source": [
    "Becuase the dataset here is quite large, maybe we won't need to do a stratified sampling. and we can just do with the a random split using `train_test_split()`.\n",
    "\n",
    "**Task 👨🏻‍💻** : Use the `train_test_split()` function from the `sklearn.model_selection` package to split the dataset into a training set named `train_set` and a test set and `test_set`.\n",
    "\n",
    "*Hint 🦉 :* \n",
    "- use the `random_state` parameter to set the random seed to `32` - this will ensure that we get the same results every time we run the code.\n",
    "- use the `test_size` parameter to set the size of the test set to `0.2`; the test set is 20% of the size of the dataset."
   ]
  },
  {
   "cell_type": "code",
   "execution_count": null,
   "metadata": {},
   "outputs": [],
   "source": []
  },
  {
   "cell_type": "markdown",
   "metadata": {},
   "source": [
    "> 🚩 : Make a git commit here"
   ]
  },
  {
   "cell_type": "markdown",
   "metadata": {},
   "source": [
    "**✨ Extra Credit Task 👨🏻‍💻**: <u>For 2 points of Extra Credit:</u> Perform a stratified split on the dataset. \n",
    "- Justify your choice of the target column to perform the stratified split on. \n",
    "- Make sure the test set is 20% of the size of the dataset."
   ]
  },
  {
   "cell_type": "code",
   "execution_count": null,
   "metadata": {},
   "outputs": [],
   "source": []
  },
  {
   "cell_type": "markdown",
   "metadata": {},
   "source": [
    "> 🚩 : Make a git commit here"
   ]
  },
  {
   "cell_type": "markdown",
   "metadata": {},
   "source": [
    "#### Separate the features and labels\n",
    "Let's separate the features `X` from the labels `y`. We'll use the training set for this."
   ]
  },
  {
   "cell_type": "markdown",
   "metadata": {},
   "source": [
    "**Task 👨🏻‍💻** : Create a copy of the training set <u>without</u> the output `income` and store it in a variable called `adult_X`, and create a copy of the dataset with <u>Only</u> the column `income` and name it `adult_y`."
   ]
  },
  {
   "cell_type": "code",
   "execution_count": null,
   "metadata": {},
   "outputs": [],
   "source": []
  },
  {
   "cell_type": "markdown",
   "metadata": {},
   "source": [
    "<details>\n",
    "  <summary>Running the following cell, should produce an output that looks like this: (🦉 click me)</summary>\n",
    "  <img width=\"600\" src=\"https://github.com/IT4063C/images/raw/main/adult-assignment/x_y_split.png\" />\n",
    "</details>"
   ]
  },
  {
   "cell_type": "code",
   "execution_count": null,
   "metadata": {},
   "outputs": [],
   "source": []
  },
  {
   "cell_type": "markdown",
   "metadata": {},
   "source": [
    "> 🚩 : Make a git commit here"
   ]
  },
  {
   "cell_type": "markdown",
   "metadata": {},
   "source": [
    "### 🏖 ☕️ Take a break here\n",
    "make sure you understand what we've done so far.\n",
    "\n",
    "________________________________"
   ]
  },
  {
   "cell_type": "markdown",
   "metadata": {},
   "source": [
    "### 3️⃣ Process\n",
    "In this section, we'll process and clean it in preparation for the model creation and analysis work the data. \n",
    "\n",
    "Here are some of what we will do:\n",
    "- dropping columns\n",
    "- impute missing values (numerical data)\n",
    "- scale numerical features (numerical data)\n",
    "- encode categorical features (categorical data)\n",
    "\n",
    "We will also compose all of these steps into a single pipeline."
   ]
  },
  {
   "cell_type": "markdown",
   "metadata": {},
   "source": [
    "#### Compose the pipeline \n",
    "We'll use the `ColumnTransformer` class to compose the pipeline. The `ColumnTransformer` class allows us to apply different transformations to different columns in the dataset.\n",
    "\n",
    "**Task 👨🏻‍💻** : Create a `ColumnTransformer` object called `full_pipeline` that applies the following transformations to the dataset:\n",
    "\n",
    "*Hint 🦉 :*\n",
    "Here's a template to get you started: \n",
    "  - You'll need to rename the variables, and the pipelines, and you'll also need to fill in the missing parts.\n",
    "```python\n",
    "feature_group1 = []\n",
    "feature_group2 = []\n",
    "\n",
    "group1_pipeline = Pipeline([\n",
    "\n",
    "])\n",
    "\n",
    "group2_pipeline = Pipeline([\n",
    "\n",
    "])\n",
    "\n",
    "full_pipeline = ColumnTransformer([\n",
    "  ('group1', group1_pipeline, feature_group1),\n",
    "  ('group1', group2_pipeline, feature_group2)\n",
    "])\n",
    "```"
   ]
  },
  {
   "cell_type": "code",
   "execution_count": null,
   "metadata": {},
   "outputs": [],
   "source": [
    "num_features = ['age', 'fnlwgt', 'education-num', 'capital-gain', 'capital-loss', 'hours-per-week']\n",
    "cat_features = ['work-class', 'education', 'marital-status', 'occupation', 'relationship', 'race', 'sex', 'native-country']\n",
    "\n",
    "num_pipeline = Pipeline([\n",
    "\n",
    "])\n",
    "\n",
    "cat_pipeline = Pipeline([\n",
    "\n",
    "])\n",
    "\n",
    "full_pipeline = ColumnTransformer([\n",
    "  ('num', num_pipeline, num_features),\n",
    "  ('cat', cat_pipeline, cat_features)\n",
    "])"
   ]
  },
  {
   "cell_type": "markdown",
   "metadata": {},
   "source": [
    "#### Impute Missing Values\n",
    "We'll use the `SimpleImputer` class from the `sklearn.impute` package to impute the missing values in the dataset.\n",
    "\n",
    "The dataset showed that we're missing values in the `work-class`, `occupation`, and `native-country` columns. All of which are categorical columns.\n",
    "\n",
    "You already answered a question above regarding what strategy you would use to impute the missing values in the categorical columns. I'm only going to give away the answer here for the categorical columns, you'll still need to justify why.\n",
    "\n",
    "> *Keep in mind*, even if there was no missing values in the dataset, we would still need to implement the imputer. Because we need to make sure that our processing pipeline can be applied to new data that <u>may</u> have missing values. \n",
    "\n",
    "So even though the numerical columns don't have missing values, we'll still need to implement the imputer for them.\n",
    "\n",
    "**Task 👨🏻‍💻** : Start modifying the template pipeline provided above, and add an imputation step to the pipelines.\n",
    "\n",
    "*Hint 🦉 :*\n",
    "- Add a `SimpleImputer` step that imputes the missing values in the dataset using the appropriate strategies.\n",
    "- For the categorical columns, use the `most_frequent` strategy.\n",
    "- For the numerical columns, use whatever strategy you think is best.\n",
    "  - you can create multiple pipelines for the numerical columns, and use the `ColumnTransformer` to apply the appropriate pipeline to the appropriate column.\n",
    "  - For example if you think that certain columns should use the `median` and others should use the `mean`, you can create two pipelines.\n",
    "  - Similar to what done on the categorical columns in the Titanic Notebook.\n"
   ]
  },
  {
   "cell_type": "code",
   "execution_count": null,
   "metadata": {},
   "outputs": [],
   "source": []
  },
  {
   "cell_type": "markdown",
   "metadata": {},
   "source": [
    "if the pipeline was implemented correctly, the following cell should produce an output that looks like this:\n",
    "\n",
    "<details>\n",
    "  <summary>(🦉 click me)</summary>\n",
    "  <img width=\"100\" src=\"https://github.com/IT4063C/images/raw/main/adult-assignment/transform1.png\" />\n",
    "</details>\n",
    "\n",
    "> **Note**: Keep in mind, all the `sklearn` transforms return a numpy array. if you want to print the data such that we can see them with the column names as we're used to in `pandas`, we need to convert that back to a DataFrame. (demonstrated in the following cell)\n"
   ]
  },
  {
   "cell_type": "code",
   "execution_count": null,
   "metadata": {},
   "outputs": [],
   "source": [
    "# Transform the data\n",
    "adult_prepared = full_pipeline.fit_transform(adult_X)\n",
    "\n",
    "# Transform the numpy n-dimensional array into a pandas dataframe\n",
    "adult_prepared = pd.DataFrame(adult_prepared, columns=full_pipeline.get_feature_names_out(), index=adult_X.index)\n",
    "\n",
    "# confirm we no longer have missing values\n",
    "adult_prepared.isnull().sum()"
   ]
  },
  {
   "cell_type": "markdown",
   "metadata": {},
   "source": [
    "noting how the column names were modified by the pipeline, we'll need to rename them back to their original names using **list_comprehension** as demonstrated in the notebook."
   ]
  },
  {
   "cell_type": "code",
   "execution_count": null,
   "metadata": {},
   "outputs": [],
   "source": [
    "# Transform the data\n",
    "adult_prepared = full_pipeline.fit_transform(adult_X)\n",
    "\n",
    "column_names = [ \n",
    "  feature\n",
    "    .replace('num__', '')\n",
    "    .replace('cat__', '') \n",
    "  for feature in full_pipeline.get_feature_names_out()\n",
    "]\n",
    "\n",
    "# Transform the numpy n-dimensional array into a pandas dataframe\n",
    "adult_prepared = pd.DataFrame(adult_prepared, columns=column_names, index=adult_X.index)\n",
    "\n",
    "# confirm we no longer have missing values\n",
    "adult_prepared.isnull().sum()"
   ]
  },
  {
   "cell_type": "markdown",
   "metadata": {},
   "source": [
    "> 🚩 : Make a git commit here"
   ]
  },
  {
   "cell_type": "markdown",
   "metadata": {},
   "source": [
    "#### Scaling and Normalizing Numerical Features\n",
    "<img width=\"650\" src=\"https://github.com/IT4063C/images/raw/main/adult-assignment/adult_hist.png\" />\n",
    "\n",
    "As you can see from the histograms and the `describe()` output, the values in each column are on different scales. This leads the machine learning algorithms giving more weight to the features. We need to scale the values in each column to the same scale. "
   ]
  },
  {
   "cell_type": "markdown",
   "metadata": {},
   "source": [
    "**Task 👨🏻‍💻** : use the `StandardScaler` class to transform/scale the values in each column to the same scale.\n",
    "\n",
    "*Hint 🦉 :* \n",
    "- This only applies to the numerical columns, so you'll need to modify the numerical pipeline adding this step."
   ]
  },
  {
   "cell_type": "code",
   "execution_count": null,
   "metadata": {},
   "outputs": [],
   "source": []
  },
  {
   "cell_type": "markdown",
   "metadata": {},
   "source": [
    "if the pipeline was implemented correctly, the following cell should produce an output that looks like this:\n",
    "\n",
    "<details>\n",
    "  <summary>(🦉 click me)</summary>\n",
    "  <img width=\"100\" src=\"https://github.com/IT4063C/images/raw/main/adult-assignment/transform2.png\" />\n",
    "</details>"
   ]
  },
  {
   "cell_type": "code",
   "execution_count": null,
   "metadata": {},
   "outputs": [],
   "source": [
    "# Transform the data\n",
    "adult_prepared = full_pipeline.fit_transform(adult_X)\n",
    "\n",
    "column_names = [ \n",
    "  feature\n",
    "    .replace('num__', '')\n",
    "    .replace('cat__', '') \n",
    "  for feature in full_pipeline.get_feature_names_out()\n",
    "]\n",
    "\n",
    "# Transform the numpy n-dimensional array into a pandas dataframe\n",
    "adult_prepared = pd.DataFrame(adult_prepared, columns=column_names, index=adult_X.index)\n",
    "adult_prepared.head()"
   ]
  },
  {
   "cell_type": "markdown",
   "metadata": {},
   "source": [
    "> 🚩 : Make a git commit here"
   ]
  },
  {
   "cell_type": "markdown",
   "metadata": {},
   "source": [
    "#### Encode Categorical Features\n",
    "Let's now process and transform the categorical features. In the videos we mentioned 2 types of categorical feature encoders: \n",
    "- `OrdinalEncoder` for ordinal categories. \n",
    "- and `OneHotEncoder`for nominal categories.\n",
    "\n",
    "here are all the categorical data we have: (I might be wrong about the classification)\n",
    "- `work-class` - nominal\n",
    "- `education` - ordinal\n",
    "- `marital-status` - nominal\n",
    "- `occupation` - nominal\n",
    "- `relationship` - nominal\n",
    "- `race` - nominal\n",
    "- `sex` - nominal\n",
    "- `native-country` - nominal"
   ]
  },
  {
   "cell_type": "markdown",
   "metadata": {},
   "source": [
    "**Task 👨🏻‍💻** : Modify the `full_pipeline` to encode the categorical features using the appropriate encoders.\n",
    "\n",
    "*Hint 🦉 :*\n",
    "- We will need to separate the categorical columns into ordinal and nominal columns. \n",
    "- Then we'll need to create a pipeline for each of them.\n",
    "- We will now have:\n",
    "  - one or more numerical pipelines (depending on how you implemented the imputer)\n",
    "  - 2 categorical pipelines (one for ordinal and one for nominal)\n"
   ]
  },
  {
   "cell_type": "code",
   "execution_count": null,
   "metadata": {},
   "outputs": [],
   "source": []
  },
  {
   "cell_type": "markdown",
   "metadata": {},
   "source": [
    "if the pipeline was implemented correctly, the following cell should produce an output that looks like this:\n",
    "\n",
    "<details>\n",
    "  <summary>(🦉 click me)</summary>\n",
    "  <img width=\"100\" src=\"https://github.com/IT4063C/images/raw/main/adult-assignment/transform2.png\" />\n",
    "</details>\n",
    "\n",
    "- not how because the `oneHotEncoder` returned a sparse matrix instead of a nd-array, we needed to convert it to a numpy array when passing it to the DataFrame constructor\n"
   ]
  },
  {
   "cell_type": "code",
   "execution_count": null,
   "metadata": {},
   "outputs": [],
   "source": [
    "# Transform the data\n",
    "adult_prepared = full_pipeline.fit_transform(adult_X)\n",
    "\n",
    "column_names = [ \n",
    "  feature\n",
    "    .replace('num__', '')\n",
    "    .replace('ord_cat__', '') \n",
    "    .replace('nom_cat__', '') \n",
    "  for feature in full_pipeline.get_feature_names_out()\n",
    "]\n",
    "\n",
    "# Transform the numpy n-dimensional array into a pandas dataframe\n",
    "## Because the oneHotEncoder returned a sparse matrix, we needed to convert it to array when passing it to the DataFrame constructor\n",
    "adult_prepared = pd.DataFrame(data=adult_prepared.toarray(), columns=column_names, index=adult_X.index)\n",
    "adult_prepared.head()"
   ]
  },
  {
   "cell_type": "markdown",
   "metadata": {},
   "source": [
    "> 🚩 : Make a git commit here"
   ]
  },
  {
   "cell_type": "markdown",
   "metadata": {},
   "source": [
    "For the `sex_Female` and `sex_Male` columns, we can drop one of them. This is because the values in the other column can be inferred from the values in the other column.\n",
    "\n",
    "**Task 👨🏻‍💻** : Drop the `sex_Male` column from the dataset, and rename the `sex_Female` column to `is_female`.\n",
    "\n",
    "*Hint 🦉 :*\n",
    "- in the notebook I chained the `drop()` and `rename()` methods.\n",
    "- I didn't do enough research to know if there is a way to do this as part of the pipeline. **(Extra Credit)**\n",
    "\n",
    "<details>\n",
    "  <summary>Output of the `head()` function should look like this: (🦉 click me)</summary>\n",
    "  <img width=\"100\" src=\"https://github.com/IT4063C/images/raw/main/adult-assignment/transform4.png\" />\n",
    "</details>\n",
    "\n",
    "**✨ Extra Credit Task 👨🏻‍💻**: <u>For 7 points of Extra Credit:</u> find a way to drop the `sex_Male` column from the dataset, and rename the `sex_Female` column to `is_female` as part of the pipeline.\n",
    "- You may not necessarily need to have a column drop step.\n",
    "- There might be a way to do this as part of the `OneHotEncoder` step.\n",
    "- Maybe a Custom Transformer.\n"
   ]
  },
  {
   "cell_type": "code",
   "execution_count": null,
   "metadata": {},
   "outputs": [],
   "source": []
  },
  {
   "cell_type": "markdown",
   "metadata": {},
   "source": [
    "### 🏖 ☕️ Take a break here\n",
    "make sure you understand what we've done so far.\n",
    "\n",
    "______________"
   ]
  },
  {
   "cell_type": "markdown",
   "metadata": {},
   "source": [
    "### 4️⃣ Analyze\n",
    "In this section, we'll train  our machine learning models to make predictions about whether a person makes over 50K a year.\n",
    "\n",
    "At this stage we should have the following datasets:\n",
    "- `adult_prepared` - the inputs for the training set\n",
    "- `adult_y` - the outputs for the training set\n",
    "- `test_set` - the test set (both X and y)"
   ]
  },
  {
   "cell_type": "code",
   "execution_count": null,
   "metadata": {},
   "outputs": [],
   "source": [
    "# ⛔️ Do not uncomment this cell. This is what I used to save a copy of the prepared data to csv files.\n",
    "\n",
    "# adult_prepared.to_csv('data/adult_prepared.csv', index=False)\n",
    "# adult_y.to_csv('data/adult_y.csv', index=False)\n",
    "\n",
    "# test_set.to_csv('data/test_set.csv', index=False)"
   ]
  },
  {
   "cell_type": "markdown",
   "metadata": {},
   "source": [
    "Just in case you didn't get the prepare and process steps right, you can use the `adult_prepared`, `adult_y`, and `test_set` datasets that I've created for you.\n",
    "\n",
    "uncomment the following cell and execute it."
   ]
  },
  {
   "cell_type": "code",
   "execution_count": null,
   "metadata": {},
   "outputs": [],
   "source": [
    "# adult_prepared = pd.read_csv(\"data/adult_prepared.csv\")\n",
    "# adult_y = pd.read_csv(\"data/adult_y.csv\")\n",
    "# test_set = pd.read_csv(\"data/test_set.csv\")"
   ]
  },
  {
   "cell_type": "markdown",
   "metadata": {},
   "source": [
    "We'll start with a dummy classifier to get a baseline for our models.\n",
    "\n",
    "**Task 👨🏻‍💻** : Create a dummy classifier and train it on the training set. `adult_prepared` and `adult_y` are the inputs and outputs for the training set respectively.\n",
    "\n",
    "*Hint 🦉 :*\n",
    "- The `DummyClassifier` class is in the `sklearn.dummy` module and is already imported for you.\n",
    "- use the `most_frequent` strategy for the `strategy` parameter."
   ]
  },
  {
   "cell_type": "code",
   "execution_count": null,
   "metadata": {},
   "outputs": [],
   "source": []
  },
  {
   "cell_type": "markdown",
   "metadata": {},
   "source": [
    "To actually get a baseline, we need some metrics to compare the performance of our models against. We'll use `.score()` function (via the model itself). \n",
    "\n",
    "We will also use the Area-Under-Curve Score using the`AUC` scoring function in the `cross_val_score` function.\n",
    "\n",
    "**Task 👨🏻‍💻** : print the `dummy_classifier`'s score.\n"
   ]
  },
  {
   "cell_type": "code",
   "execution_count": null,
   "metadata": {},
   "outputs": [],
   "source": []
  },
  {
   "cell_type": "markdown",
   "metadata": {},
   "source": [
    "**Task 👨🏻‍💻** : Use the `cross_val_score` function to get the AUC score for the dummy classifier."
   ]
  },
  {
   "cell_type": "code",
   "execution_count": null,
   "metadata": {},
   "outputs": [],
   "source": []
  },
  {
   "cell_type": "markdown",
   "metadata": {},
   "source": [
    "Using the same approach demonstrated in this module's notebook, we'll train a few models and compare their performance.\n",
    "\n",
    "**Task 👨🏻‍💻** : Train multiple models and compare their performance.\n",
    "\n",
    "*Hint 🦉 :*\n",
    "- These are the different models you need to test (all of their libraries are imported for you):\n",
    "  - DummyClassifier,\n",
    "  - DecisionTreeClassifier,\n",
    "  - RandomForestClassifier,\n",
    "  - GradientBoostingClassifier,\n",
    "  - BaggingClassifier\n",
    "-  when the target variable has columns called anything other than `y`, the `cross_val_score` function throws a lot of errors. For that instead of passing the labels as `adult_y`, you'll need to pass `adult_y['income']`\n",
    "-  Set up the kfolds variable, the same way as on this week's notebook. (to ensure we get the same results)\n",
    "\n",
    "```python\n",
    "  kfold = KFold(\n",
    "        n_splits=10, random_state=42, shuffle=True\n",
    "    )\n",
    "```\n",
    "\n",
    "<details>\n",
    "  <summary>Output should look like this: (🦉 click me)</summary>\n",
    "  <img width=\"650\" src=\"https://github.com/IT4063C/images/raw/main/adult-assignment/models-comparison.png\" />\n",
    "</details>"
   ]
  },
  {
   "cell_type": "code",
   "execution_count": null,
   "metadata": {},
   "outputs": [],
   "source": []
  },
  {
   "cell_type": "markdown",
   "metadata": {},
   "source": [
    "Use the ConfusionMatrixDisplay to visualize the confusion matrix for the best model.\n",
    "\n",
    "**Task 👨🏻‍💻** : Use the `ConfusionMatrixDisplay` to visualize the confusion matrix for the best model.\n",
    "\n",
    "*Hint 🦉 :*\n",
    "- you don't need to provide `display_labels` like we did in the notebook. The `ConfusionMatrixDisplay` will automatically use the labels from the `adult_y` dataset.\n",
    "\n",
    "\n",
    "<details>\n",
    "  <summary>Output should look like this: (🦉 click me)</summary>\n",
    "  <img width=\"650\" src=\"https://github.com/IT4063C/images/raw/main/adult-assignment/confusion-matrix.png\" />\n",
    "</details>"
   ]
  },
  {
   "cell_type": "code",
   "execution_count": null,
   "metadata": {},
   "outputs": [],
   "source": []
  },
  {
   "cell_type": "markdown",
   "metadata": {},
   "source": [
    "**✨ Extra Credit Task 👨🏻‍💻**: <u>For 5 points of Extra Credit:</u> Choose a model that performed well and try to improve its performance by tuning its hyperparameters using the `GridSearchCV` class.\n",
    "\n",
    "*Hint 🦉 :*\n",
    "- demonstrated in this week's notebook\n"
   ]
  },
  {
   "cell_type": "code",
   "execution_count": null,
   "metadata": {},
   "outputs": [],
   "source": []
  },
  {
   "cell_type": "markdown",
   "metadata": {},
   "source": [
    "> 🚩 : Make a git commit here"
   ]
  },
  {
   "cell_type": "markdown",
   "metadata": {},
   "source": [
    "#### Evaluate against the test set\n",
    "Let's evaluate the models using the test set.\n",
    "\n",
    "**Task 👨🏻‍💻** : Calculate the `auc_score` for the best model using the test set.\n",
    "\n",
    "*Hint*:\n",
    "- remember to separate the X and y from the test set\n",
    "- remember to transform the X using the `full_pipeline`\n",
    "- remember to drop and renamed the sex columns; we didn't do that as part of the pipeline"
   ]
  },
  {
   "cell_type": "code",
   "execution_count": null,
   "metadata": {},
   "outputs": [],
   "source": []
  },
  {
   "cell_type": "markdown",
   "metadata": {},
   "source": [
    "> 🚩 : Make a git commit here"
   ]
  },
  {
   "cell_type": "markdown",
   "metadata": {},
   "source": [
    "**Task 👨🏻‍💻** : Plot the confusion matrix for the best model using the test set."
   ]
  },
  {
   "cell_type": "code",
   "execution_count": null,
   "metadata": {},
   "outputs": [],
   "source": []
  },
  {
   "cell_type": "markdown",
   "metadata": {},
   "source": [
    "> 🚩 : Make a git commit here"
   ]
  },
  {
   "cell_type": "markdown",
   "metadata": {},
   "source": [
    "### 5️⃣. Deploy\n",
    "When you're ready to deploy the model, we don't need to keep running the transformation and training pipelines. instead we can save the trained model and load when needed.\n",
    "\n",
    "**Task 👨🏻‍💻** :use the `pickle` module to save the best model to a file called `best_model.pkl`."
   ]
  },
  {
   "cell_type": "code",
   "execution_count": null,
   "metadata": {},
   "outputs": [],
   "source": []
  },
  {
   "cell_type": "markdown",
   "metadata": {},
   "source": [
    "> 🚩 : Make a git commit here"
   ]
  },
  {
   "cell_type": "markdown",
   "metadata": {},
   "source": [
    "## Wrap up\n",
    "- **Task 👨🏻‍💻** : Remember to update the self reflection and self evaluations on the `README` file.\n",
    "- **Task 👨🏻‍💻** : Make sure you run the following cell. It converts this Jupyter notebook to a Python script. This allows me to provide feedback on your code.\n"
   ]
  },
  {
   "cell_type": "code",
   "execution_count": null,
   "metadata": {},
   "outputs": [],
   "source": [
    "!jupyter nbconvert --to python census-adult-income.ipynb"
   ]
  },
  {
   "cell_type": "markdown",
   "metadata": {},
   "source": [
    "> 🚩 : Make a git commit here"
   ]
  }
 ],
 "metadata": {
  "kernelspec": {
   "display_name": "Python 3.10.6 ('census-income-ZDvTWF0G')",
   "language": "python",
   "name": "python3"
  },
  "language_info": {
   "codemirror_mode": {
    "name": "ipython",
    "version": 3
   },
   "file_extension": ".py",
   "mimetype": "text/x-python",
   "name": "python",
   "nbconvert_exporter": "python",
   "pygments_lexer": "ipython3",
   "version": "3.10.6"
  },
  "nav_menu": {
   "height": "279px",
   "width": "309px"
  },
  "toc": {
   "nav_menu": {},
   "number_sections": true,
   "sideBar": true,
   "skip_h1_title": false,
   "toc_cell": false,
   "toc_position": {},
   "toc_section_display": "block",
   "toc_window_display": false
  },
  "vscode": {
   "interpreter": {
    "hash": "b8c07d9ef14a3ea29dff28b563a1f841bc5fc44f203a18487aaf405883ac0a13"
   }
  }
 },
 "nbformat": 4,
 "nbformat_minor": 4
}
